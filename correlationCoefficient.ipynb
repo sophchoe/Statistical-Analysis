{
 "cells": [
  {
   "cell_type": "markdown",
   "id": "885678e2",
   "metadata": {},
   "source": [
    "# Statistical Analysis: Correlation Coefficient"
   ]
  },
  {
   "cell_type": "markdown",
   "id": "1428972b",
   "metadata": {},
   "source": [
    "## Correlation Coefficient of Two Datasets"
   ]
  },
  {
   "cell_type": "code",
   "execution_count": 15,
   "id": "2999a964",
   "metadata": {},
   "outputs": [],
   "source": [
    "list1 = [12, 13, 8, 10, 9, 7, 7, 15]\n",
    "list2 = [3, 7, 18, 11, 8, 7, 8, 14]"
   ]
  },
  {
   "cell_type": "code",
   "execution_count": 18,
   "id": "b109b2fc",
   "metadata": {},
   "outputs": [
    {
     "name": "stdout",
     "output_type": "stream",
     "text": [
      "[(12, 3), (13, 7), (8, 18), (10, 11), (9, 8), (7, 7), (7, 8), (15, 14)]\n"
     ]
    }
   ],
   "source": [
    "data = zip(list1, list2)\n",
    "data\n",
    "print(list(data))"
   ]
  },
  {
   "cell_type": "code",
   "execution_count": 8,
   "id": "6602e5ff",
   "metadata": {},
   "outputs": [],
   "source": [
    "def numerator(list1, list2):\n",
    "    \n",
    "    prod = [list1[i]*list2[i] for i in range(len(list1))]\n",
    "    sum1 = sum(list1)\n",
    "    sum2 = sum(list2)\n",
    "    prodSum = sum1*sum2\n",
    "    n = len(list1)\n",
    "    \n",
    "    return n*sum(prod) - prodSum"
   ]
  },
  {
   "cell_type": "code",
   "execution_count": 9,
   "id": "0de799cf",
   "metadata": {},
   "outputs": [],
   "source": [
    "def denomFactor(data):\n",
    "    \n",
    "    dataSquared = [x**2 for x in data]\n",
    "    squaredSum = sum(dataSquared)\n",
    "    \n",
    "    total = sum(data)\n",
    "    totalSquared = total**2\n",
    "    \n",
    "    n = len(data)\n",
    "    \n",
    "    return n*squaredSum - totalSquared   "
   ]
  },
  {
   "cell_type": "code",
   "execution_count": 10,
   "id": "babccbd8",
   "metadata": {},
   "outputs": [],
   "source": [
    "def denominator(factor1, factor2):\n",
    "    \n",
    "    return (factor1*factor2)**(1/2)"
   ]
  },
  {
   "cell_type": "code",
   "execution_count": 13,
   "id": "4db9d0f7",
   "metadata": {},
   "outputs": [],
   "source": [
    "def correlationCoefficient(list1, list2):\n",
    "    \n",
    "    numer = numerator(list1, list2)\n",
    "    fac1 = denomFactor(list1)\n",
    "    fac2 = denomFactor(list2)\n",
    "    denom = denominator(fac1, fac2)\n",
    "    \n",
    "    return numer/denom"
   ]
  },
  {
   "cell_type": "code",
   "execution_count": 19,
   "id": "96ccb549",
   "metadata": {},
   "outputs": [
    {
     "data": {
      "text/plain": [
       "-0.01549213994807274"
      ]
     },
     "execution_count": 19,
     "metadata": {},
     "output_type": "execute_result"
    }
   ],
   "source": [
    "correlationCoefficient(list1, list2)"
   ]
  }
 ],
 "metadata": {
  "kernelspec": {
   "display_name": "Python 3 (ipykernel)",
   "language": "python",
   "name": "python3"
  },
  "language_info": {
   "codemirror_mode": {
    "name": "ipython",
    "version": 3
   },
   "file_extension": ".py",
   "mimetype": "text/x-python",
   "name": "python",
   "nbconvert_exporter": "python",
   "pygments_lexer": "ipython3",
   "version": "3.9.12"
  }
 },
 "nbformat": 4,
 "nbformat_minor": 5
}
